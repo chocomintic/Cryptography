{
  "nbformat": 4,
  "nbformat_minor": 0,
  "metadata": {
    "colab": {
      "provenance": []
    },
    "kernelspec": {
      "name": "python3",
      "display_name": "Python 3"
    },
    "language_info": {
      "name": "python"
    }
  },
  "cells": [
    {
      "cell_type": "code",
      "execution_count": null,
      "metadata": {
        "id": "M9L2xpH0thRJ"
      },
      "outputs": [],
      "source": [
        "#vignere cipher implementation\n",
        "import math\n",
        "\n",
        "UPPER_OFFSET = 65\n",
        "LOWER_OFFSET = 97\n",
        "\n",
        "def encrypt(plaintext, enc_key):\n",
        "  ciphertext = \"\"\n",
        "  no_of_repeats = math.ceil(len(plaintext) / len(enc_key))\n",
        "  print(\"no of repeats:\", no_of_repeats)\n",
        "  key_list = list(enc_key*no_of_repeats)\n",
        "\n",
        "  for i in range(len(plaintext)):\n",
        "    if (ord(plaintext[i])>= ord('A')) and (ord(plaintext[i])<= ord('Z')):\n",
        "      char = ord(plaintext[i])  + ord(key_list[i].upper()) - 2*UPPER_OFFSET # added 2 offset\n",
        "      char = char % 26\n",
        "      char = char + UPPER_OFFSET\n",
        "      ciphertext += chr(char)\n",
        "    elif (ord(plaintext[i])>= ord('a')) and (ord(plaintext[i])<=ord('z')):\n",
        "      char = ord(plaintext[i])  + ord(key_list[i].lower()) - 2*LOWER_OFFSET #added 2 offset\n",
        "      char = char % 26\n",
        "      char = char + LOWER_OFFSET\n",
        "      ciphertext += chr(char)\n",
        "    else:\n",
        "      ciphertext += plaintext[i]\n",
        "  return ciphertext\n",
        "\n",
        "\n",
        "\n"
      ]
    },
    {
      "cell_type": "code",
      "source": [
        "encrypt (\"Hello\", \"pop\")"
      ],
      "metadata": {
        "colab": {
          "base_uri": "https://localhost:8080/",
          "height": 53
        },
        "id": "SznYGhaVv9Sn",
        "outputId": "11716af0-7da7-4e94-e8e0-74c3320adeec"
      },
      "execution_count": null,
      "outputs": [
        {
          "output_type": "stream",
          "name": "stdout",
          "text": [
            "no of repeats: 2\n"
          ]
        },
        {
          "output_type": "execute_result",
          "data": {
            "text/plain": [
              "'Wsaac'"
            ],
            "application/vnd.google.colaboratory.intrinsic+json": {
              "type": "string"
            }
          },
          "metadata": {},
          "execution_count": 19
        }
      ]
    },
    {
      "cell_type": "code",
      "source": [
        "def decrypter(ciphertext, enc_key):\n",
        "  plaintext = \"\"\n",
        "  no_of_repeats = math.ceil(len(ciphertext) / len(enc_key))\n",
        "  print(\"no of repeats:\", no_of_repeats)\n",
        "  key_list = list(enc_key*no_of_repeats)\n",
        "\n",
        "  for i in range(len(ciphertext)):\n",
        "    if (ord(ciphertext[i])>= ord('A')) and (ord(ciphertext[i])<= ord('Z')):\n",
        "      char = ord(ciphertext[i])  - ord(key_list[i].upper()) # already minus of offset\n",
        "      char = char % 26\n",
        "      char = char + UPPER_OFFSET\n",
        "      plaintext += chr(char)\n",
        "    elif (ord(ciphertext[i])>= ord('a')) and (ord(ciphertext[i])<=ord('z')):\n",
        "      char = ord(ciphertext[i])  -  ord(key_list[i].lower()) #already minus of offset\n",
        "      char = char % 26\n",
        "      char = char + LOWER_OFFSET\n",
        "      plaintext += chr(char)\n",
        "    else:\n",
        "      plaintext += ciphertext[i]\n",
        "  return plaintext\n"
      ],
      "metadata": {
        "id": "_YnohguF18_j"
      },
      "execution_count": null,
      "outputs": []
    },
    {
      "cell_type": "code",
      "source": [
        "decrypter(\"Zejho tm tze sojlb!\", \"saywa\")"
      ],
      "metadata": {
        "colab": {
          "base_uri": "https://localhost:8080/",
          "height": 53
        },
        "id": "W3NLGz_c2UF-",
        "outputId": "cca5f61c-47aa-46f4-928a-a69cf579f3e2"
      },
      "execution_count": null,
      "outputs": [
        {
          "output_type": "stream",
          "name": "stdout",
          "text": [
            "no of repeats: 4\n"
          ]
        },
        {
          "output_type": "execute_result",
          "data": {
            "text/plain": [
              "'Hello to the world!'"
            ],
            "application/vnd.google.colaboratory.intrinsic+json": {
              "type": "string"
            }
          },
          "metadata": {},
          "execution_count": 10
        }
      ]
    },
    {
      "cell_type": "code",
      "source": [
        "#Vigenere Cipher + reading key file\n",
        "\n",
        "import math\n",
        "def read_file():\n",
        "    with open(\"vkey.txt\", 'r') as f:\n",
        "        key = f.read().strip()\n",
        "    key = ''.join(key.split())  # Remove all spaces/newlines in the middle\n",
        "    return key\n",
        "\n",
        "def encrypt1(plaintext, key):\n",
        "  ciphertext = \"\"\n",
        "  num_of_repeats =  math.ceil(len(plaintext)/len(key))\n",
        "  keyTotal = key * num_of_repeats\n",
        "  for indext in range (len(plaintext)):\n",
        "    pt_char = plaintext[indext]\n",
        "    key_char = keyTotal[indext]\n",
        "    if pt_char.isalpha():\n",
        "      if pt_char.isupper():\n",
        "        pt_num = ord(pt_char)-65\n",
        "        key_num = ord(key_char.upper())-65\n",
        "        ct_num = (pt_num + key_num)%26\n",
        "        ct_char = chr(ct_num +65)\n",
        "        ciphertext += ct_char\n",
        "      if pt_char.islower():\n",
        "        pt_num = ord(pt_char)-97\n",
        "        key_num = ord(key_char.lower())-97\n",
        "        ct_num = (pt_num + key_num)%26\n",
        "        ct_char = chr(ct_num +97)\n",
        "        ciphertext += ct_char\n",
        "    else:\n",
        "      ciphertext+= pt_char\n",
        "  return ciphertext\n"
      ],
      "metadata": {
        "id": "BuCC5kmeU1tR"
      },
      "execution_count": null,
      "outputs": []
    },
    {
      "cell_type": "code",
      "source": [
        "def decrypt(ciphertext,key):\n",
        "    reversed_key = \"\"\n",
        "    for char in key:\n",
        "        if char.isupper():\n",
        "            reversed_key += chr(((26 - (ord(char) - 65)) % 26) + 65)\n",
        "        elif char.islower():\n",
        "            reversed_key += chr(((26 - (ord(char) - 97)) % 26) + 97)\n",
        "    return encrypt1(ciphertext, reversed_key)"
      ],
      "metadata": {
        "id": "fD5rk_gw_pIz"
      },
      "execution_count": null,
      "outputs": []
    },
    {
      "cell_type": "code",
      "source": [
        "key = read_file()\n",
        "plaintext = input(\"Plaintext: \")\n",
        "print(\"Encrypted:\",encrypt1(plaintext, key))\n",
        "ciphertext = input(\"Ciphertext: \")\n",
        "print(\"Decrypted:\", decrypt(ciphertext, key))"
      ],
      "metadata": {
        "colab": {
          "base_uri": "https://localhost:8080/"
        },
        "id": "gH27c-nqWz0-",
        "outputId": "33f4be53-5351-47d8-d5f9-d34b42d10e51"
      },
      "execution_count": null,
      "outputs": [
        {
          "output_type": "stream",
          "name": "stdout",
          "text": [
            "Plaintext: okay\n",
            "Encrypted: dypn\n",
            "Ciphertext: dypn\n",
            "Decrypted: okay\n"
          ]
        }
      ]
    },
    {
      "cell_type": "code",
      "source": [
        "decrypt(\"Wsacd\",key)"
      ],
      "metadata": {
        "colab": {
          "base_uri": "https://localhost:8080/",
          "height": 53
        },
        "id": "BfK9cAC8BAPA",
        "outputId": "37c1988a-d07a-49f4-f8ca-a8cdf5b5fd25"
      },
      "execution_count": null,
      "outputs": [
        {
          "output_type": "stream",
          "name": "stdout",
          "text": [
            "lml\n"
          ]
        },
        {
          "output_type": "execute_result",
          "data": {
            "text/plain": [
              "'Helnp'"
            ],
            "application/vnd.google.colaboratory.intrinsic+json": {
              "type": "string"
            }
          },
          "metadata": {},
          "execution_count": 12
        }
      ]
    },
    {
      "cell_type": "code",
      "source": [
        "# Vignere + XOR\n",
        "\n",
        "def encrypt(plaintext, keyword):\n",
        "    # assume the plaintext and the keyword have the same length\n",
        "\n",
        "    ciphertext = \"\"\n",
        "    for idx in range(len(plaintext)):\n",
        "\n",
        "\n",
        "        ptext_char = plaintext[ idx]\n",
        "        key_char = keyword[idx]\n",
        "\n",
        "\n",
        "\n",
        "        if ptext_char.isalpha():\n",
        "\n",
        "            is_upper = ptext_char.isupper()\n",
        "            if is_upper:\n",
        "                ptext_val = ord(ptext_char) - 65\n",
        "            else:\n",
        "                ptext_val = ord(ptext_char) - 97\n",
        "\n",
        "            key_val = ord(key_char) - 65\n",
        "\n",
        "\n",
        "\n",
        "            encrypted_val = ptext_val ^ key_val\n",
        "\n",
        "\n",
        "\n",
        "            if is_upper:\n",
        "                encrypted_char = chr(encrypted_val + 65)\n",
        "            else:\n",
        "                encrypted_char = chr(encrypted_val + 97)\n",
        "\n",
        "\n",
        "\n",
        "            ciphertext += encrypted_char\n",
        "\n",
        "    return ciphertext\n"
      ],
      "metadata": {
        "id": "kDS4BRmKgHZ7"
      },
      "execution_count": null,
      "outputs": []
    },
    {
      "cell_type": "code",
      "source": [
        "encrypt(\"HELLO\",\"ABCDE\")"
      ],
      "metadata": {
        "colab": {
          "base_uri": "https://localhost:8080/",
          "height": 35
        },
        "id": "7xwhzucEgMPH",
        "outputId": "1ab181a7-063c-45fc-f261-e2764bad1972"
      },
      "execution_count": null,
      "outputs": [
        {
          "output_type": "execute_result",
          "data": {
            "text/plain": [
              "'HFJIK'"
            ],
            "application/vnd.google.colaboratory.intrinsic+json": {
              "type": "string"
            }
          },
          "metadata": {},
          "execution_count": 5
        }
      ]
    }
  ]
}