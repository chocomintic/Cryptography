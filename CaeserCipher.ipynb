{
  "nbformat": 4,
  "nbformat_minor": 0,
  "metadata": {
    "colab": {
      "provenance": []
    },
    "kernelspec": {
      "name": "python3",
      "display_name": "Python 3"
    },
    "language_info": {
      "name": "python"
    }
  },
  "cells": [
    {
      "cell_type": "code",
      "execution_count": 1,
      "metadata": {
        "id": "PiuvcEBUoTNg"
      },
      "outputs": [],
      "source": [
        "LOWER_OFFSET = 97\n",
        "UPPER_OFFSET = 65\n",
        "\n",
        "def encrypt(plaintext, key):\n",
        "  ciphertext = \"\"\n",
        "  for char in plaintext:\n",
        "    if (ord(char)>= ord('A')) and (ord(char)<= ord('Z')):\n",
        "      char = ord(char) - UPPER_OFFSET\n",
        "      char = (char + key) % 26\n",
        "      char = char + UPPER_OFFSET\n",
        "      ciphertext += chr(char)\n",
        "    elif (ord(char)>= ord('a')) and (ord(char)<= ord('z')):\n",
        "      char = ord(char) - LOWER_OFFSET\n",
        "      char = (char + key) % 26\n",
        "      char = char + LOWER_OFFSET\n",
        "      ciphertext += chr(char)\n",
        "    else:\n",
        "      ciphertext += char\n",
        "  return ciphertext\n",
        "\n",
        "def decrypt(ciphertext, key):\n",
        "  plaintext = \"\"\n",
        "  for char in ciphertext:\n",
        "    if (ord(char)>= ord('A')) and (ord(char)<= ord('Z')):\n",
        "      char = ord(char) - UPPER_OFFSET\n",
        "      char = (char - key) % 26\n",
        "      char = char + UPPER_OFFSET\n",
        "      plaintext += chr(char)\n",
        "    elif (ord(char)>=ord('a')) and (ord(char)<= ord('z')):\n",
        "      char = ord(char) - LOWER_OFFSET\n",
        "      char = (char - key) % 26\n",
        "      char = char + LOWER_OFFSET\n",
        "      plaintext += chr(char)\n",
        "    else:\n",
        "      plaintext += char\n",
        "  return plaintext\n",
        "\n",
        "def main():\n",
        "  plaintext = input(\"Enter plaintext: \")\n",
        "  key = int(input(\"Enter key: \"))\n",
        "  ciphertext = encrypt(plaintext, key)\n",
        "  print(\"Ciphertext: \", ciphertext)"
      ]
    },
    {
      "cell_type": "code",
      "source": [
        "main()"
      ],
      "metadata": {
        "colab": {
          "base_uri": "https://localhost:8080/"
        },
        "id": "hXK0S65wpbiK",
        "outputId": "84012d22-1b7f-4c16-8afb-6b0e3855c4fb"
      },
      "execution_count": 2,
      "outputs": [
        {
          "output_type": "stream",
          "name": "stdout",
          "text": [
            "Enter plaintext: hello\n",
            "Enter key: 3\n",
            "Ciphertext:  khoor\n"
          ]
        }
      ]
    }
  ]
}